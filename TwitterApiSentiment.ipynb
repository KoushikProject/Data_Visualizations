{
 "cells": [
  {
   "cell_type": "code",
   "execution_count": 1,
   "id": "170ace2c",
   "metadata": {},
   "outputs": [],
   "source": [
    "import pandas as pd"
   ]
  },
  {
   "cell_type": "code",
   "execution_count": 2,
   "id": "a0d28067",
   "metadata": {},
   "outputs": [
    {
     "data": {
      "text/html": [
       "<div>\n",
       "<style scoped>\n",
       "    .dataframe tbody tr th:only-of-type {\n",
       "        vertical-align: middle;\n",
       "    }\n",
       "\n",
       "    .dataframe tbody tr th {\n",
       "        vertical-align: top;\n",
       "    }\n",
       "\n",
       "    .dataframe thead th {\n",
       "        text-align: right;\n",
       "    }\n",
       "</style>\n",
       "<table border=\"1\" class=\"dataframe\">\n",
       "  <thead>\n",
       "    <tr style=\"text-align: right;\">\n",
       "      <th></th>\n",
       "      <th>text</th>\n",
       "      <th>username</th>\n",
       "      <th>name</th>\n",
       "    </tr>\n",
       "  </thead>\n",
       "  <tbody>\n",
       "    <tr>\n",
       "      <th>0</th>\n",
       "      <td>@MoneshArjun yes good</td>\n",
       "      <td>GokulGururaajR</td>\n",
       "      <td>Gokul Gururaaj</td>\n",
       "    </tr>\n",
       "    <tr>\n",
       "      <th>1</th>\n",
       "      <td>@MoneshArjun excellent</td>\n",
       "      <td>GokulGururaajR</td>\n",
       "      <td>Gokul Gururaaj</td>\n",
       "    </tr>\n",
       "    <tr>\n",
       "      <th>2</th>\n",
       "      <td>@MoneshArjun bad</td>\n",
       "      <td>GokulGururaajR</td>\n",
       "      <td>Gokul Gururaaj</td>\n",
       "    </tr>\n",
       "    <tr>\n",
       "      <th>3</th>\n",
       "      <td>@MoneshArjun okay</td>\n",
       "      <td>GokulGururaajR</td>\n",
       "      <td>Gokul Gururaaj</td>\n",
       "    </tr>\n",
       "    <tr>\n",
       "      <th>4</th>\n",
       "      <td>@MoneshArjun very bad</td>\n",
       "      <td>GokulGururaajR</td>\n",
       "      <td>Gokul Gururaaj</td>\n",
       "    </tr>\n",
       "  </tbody>\n",
       "</table>\n",
       "</div>"
      ],
      "text/plain": [
       "                     text        username            name\n",
       "0   @MoneshArjun yes good  GokulGururaajR  Gokul Gururaaj\n",
       "1  @MoneshArjun excellent  GokulGururaajR  Gokul Gururaaj\n",
       "2        @MoneshArjun bad  GokulGururaajR  Gokul Gururaaj\n",
       "3       @MoneshArjun okay  GokulGururaajR  Gokul Gururaaj\n",
       "4   @MoneshArjun very bad  GokulGururaajR  Gokul Gururaaj"
      ]
     },
     "execution_count": 2,
     "metadata": {},
     "output_type": "execute_result"
    }
   ],
   "source": [
    "df = pd.read_csv(\"Desktop/python/Tweet_Reply_Data.csv\")\n",
    "df.head()"
   ]
  },
  {
   "cell_type": "code",
   "execution_count": 3,
   "id": "1cefc3d7",
   "metadata": {},
   "outputs": [
    {
     "name": "stderr",
     "output_type": "stream",
     "text": [
      "[nltk_data] Downloading package stopwords to\n",
      "[nltk_data]     C:\\Users\\Koushik.Rangarajan\\AppData\\Roaming\\nltk_data.\n",
      "[nltk_data]     ..\n",
      "[nltk_data]   Package stopwords is already up-to-date!\n"
     ]
    }
   ],
   "source": [
    "from nltk.corpus import stopwords\n",
    "import nltk\n",
    "nltk.download('stopwords')\n",
    "\n",
    "en_stopwords = set(stopwords.words(\"english\"))\n",
    "import string\n",
    "english_punctuations = string.punctuation\n",
    "punctuations_list = english_punctuations\n",
    "from nltk.tokenize import RegexpTokenizer\n",
    "word_tokenize = RegexpTokenizer(r'\\w+')\n",
    "import re"
   ]
  },
  {
   "cell_type": "code",
   "execution_count": 4,
   "id": "0202c3ad",
   "metadata": {},
   "outputs": [
    {
     "name": "stderr",
     "output_type": "stream",
     "text": [
      "[nltk_data] Downloading package omw-1.4 to\n",
      "[nltk_data]     C:\\Users\\Koushik.Rangarajan\\AppData\\Roaming\\nltk_data.\n",
      "[nltk_data]     ..\n",
      "[nltk_data]   Package omw-1.4 is already up-to-date!\n",
      "[nltk_data] Downloading package wordnet to\n",
      "[nltk_data]     C:\\Users\\Koushik.Rangarajan\\AppData\\Roaming\\nltk_data.\n",
      "[nltk_data]     ..\n",
      "[nltk_data]   Package wordnet is already up-to-date!\n"
     ]
    }
   ],
   "source": [
    "import string\n",
    "english_punctuations = string.punctuation\n",
    "punctuations_list = english_punctuations\n",
    "from nltk.tokenize import RegexpTokenizer\n",
    "tokenizer = RegexpTokenizer(r'\\w+')\n",
    "import nltk\n",
    "st = nltk.PorterStemmer()\n",
    "import nltk\n",
    "nltk.download('omw-1.4')\n",
    "nltk.download('wordnet')\n",
    "lm = nltk.WordNetLemmatizer()\n",
    "\n",
    "def getcleanedtext(text):\n",
    "    text=text.lower()\n",
    "    text = re.sub('@[\\w]+','',text)\n",
    "    def cleaning_stopwords(text):\n",
    "        return \" \".join([word for word in str(text).split() if word not in en_stopwords])\n",
    "    stop_word_removal = cleaning_stopwords(text)\n",
    "    \n",
    "    def cleaning_punctuations(text):\n",
    "        translator = str.maketrans('', '', punctuations_list)\n",
    "        return text.translate(translator)\n",
    "    punctuation_removal = cleaning_punctuations(stop_word_removal)\n",
    "    \n",
    "    def cleaning_repeating_char(text):\n",
    "        return re.sub(r'(.)1+', r'1', text)\n",
    "    repeating_char_removal = cleaning_repeating_char(punctuation_removal)\n",
    "     \n",
    "    def cleaning_URLs(data):\n",
    "        return re.sub('((www.[^s]+)|(https?://[^s]+))',' ',data)\n",
    "    clean_url = cleaning_URLs(repeating_char_removal)\n",
    "    \n",
    "    def cleaning_numbers(data):\n",
    "        return re.sub('[0-9]+', '', data)\n",
    "    clean_numbers = cleaning_numbers(clean_url)\n",
    "    \n",
    "    def remove_single_char(data):\n",
    "        return re.sub(r'\\s+[a-zA-Z]\\s+', '', data)\n",
    "    remove_single = remove_single_char(clean_numbers)\n",
    "    \n",
    "    def stemming_on_text(data):\n",
    "        text = [st.stem(word) for word in data]\n",
    "        return data\n",
    "    stemming = stemming_on_text(remove_single)\n",
    "    \n",
    "    def lemmatizer_on_text(data):\n",
    "        text = [lm.lemmatize(word) for word in data]\n",
    "        return data\n",
    "    lemmatize = lemmatizer_on_text(stemming)\n",
    "    \n",
    "    \n",
    "    tokens=tokenizer.tokenize(lemmatize)\n",
    "    without_single_chr = [word for word in tokens if len(word) > 2]\n",
    "    clean_text=' '.join(without_single_chr)\n",
    "    return clean_text"
   ]
  },
  {
   "cell_type": "code",
   "execution_count": 5,
   "id": "c80643ed",
   "metadata": {},
   "outputs": [
    {
     "data": {
      "text/plain": [
       "0     @MoneshArjun yes good\n",
       "1    @MoneshArjun excellent\n",
       "2          @MoneshArjun bad\n",
       "3         @MoneshArjun okay\n",
       "4     @MoneshArjun very bad\n",
       "Name: text, dtype: object"
      ]
     },
     "execution_count": 5,
     "metadata": {},
     "output_type": "execute_result"
    }
   ],
   "source": [
    "X = df['text']\n",
    "X"
   ]
  },
  {
   "cell_type": "code",
   "execution_count": 6,
   "id": "0f33013b",
   "metadata": {},
   "outputs": [],
   "source": [
    "x_clean=[getcleanedtext(i) for i in X]"
   ]
  },
  {
   "cell_type": "code",
   "execution_count": 7,
   "id": "07d99951",
   "metadata": {},
   "outputs": [
    {
     "data": {
      "text/plain": [
       "['yes good', 'excellent', 'bad', 'okay', 'bad']"
      ]
     },
     "execution_count": 7,
     "metadata": {},
     "output_type": "execute_result"
    }
   ],
   "source": [
    "x_clean"
   ]
  },
  {
   "cell_type": "code",
   "execution_count": 8,
   "id": "96e0fbd1",
   "metadata": {},
   "outputs": [],
   "source": [
    "df1 = pd.DataFrame()"
   ]
  },
  {
   "cell_type": "code",
   "execution_count": 9,
   "id": "e3b9d5eb",
   "metadata": {},
   "outputs": [],
   "source": [
    "df1['Feedback'] = x_clean"
   ]
  },
  {
   "cell_type": "code",
   "execution_count": 11,
   "id": "804d9fc8",
   "metadata": {},
   "outputs": [
    {
     "data": {
      "text/html": [
       "<div>\n",
       "<style scoped>\n",
       "    .dataframe tbody tr th:only-of-type {\n",
       "        vertical-align: middle;\n",
       "    }\n",
       "\n",
       "    .dataframe tbody tr th {\n",
       "        vertical-align: top;\n",
       "    }\n",
       "\n",
       "    .dataframe thead th {\n",
       "        text-align: right;\n",
       "    }\n",
       "</style>\n",
       "<table border=\"1\" class=\"dataframe\">\n",
       "  <thead>\n",
       "    <tr style=\"text-align: right;\">\n",
       "      <th></th>\n",
       "      <th>Feedback</th>\n",
       "    </tr>\n",
       "  </thead>\n",
       "  <tbody>\n",
       "    <tr>\n",
       "      <th>0</th>\n",
       "      <td>yes good</td>\n",
       "    </tr>\n",
       "    <tr>\n",
       "      <th>1</th>\n",
       "      <td>excellent</td>\n",
       "    </tr>\n",
       "    <tr>\n",
       "      <th>2</th>\n",
       "      <td>bad</td>\n",
       "    </tr>\n",
       "    <tr>\n",
       "      <th>3</th>\n",
       "      <td>okay</td>\n",
       "    </tr>\n",
       "    <tr>\n",
       "      <th>4</th>\n",
       "      <td>bad</td>\n",
       "    </tr>\n",
       "  </tbody>\n",
       "</table>\n",
       "</div>"
      ],
      "text/plain": [
       "    Feedback\n",
       "0   yes good\n",
       "1  excellent\n",
       "2        bad\n",
       "3       okay\n",
       "4        bad"
      ]
     },
     "execution_count": 11,
     "metadata": {},
     "output_type": "execute_result"
    }
   ],
   "source": [
    "df1.head()"
   ]
  },
  {
   "cell_type": "code",
   "execution_count": 12,
   "id": "7b8ee2ab",
   "metadata": {},
   "outputs": [],
   "source": [
    "from textblob import TextBlob"
   ]
  },
  {
   "cell_type": "code",
   "execution_count": 13,
   "id": "d57588ad",
   "metadata": {},
   "outputs": [],
   "source": [
    "def sentiment_analysis(df):\n",
    "    def getSubjectivity(text):\n",
    "        return TextBlob(text).sentiment.subjectivity\n",
    "  \n",
    " #Create a function to get the polarity\n",
    "    def getPolarity(text):\n",
    "        return TextBlob(text).sentiment.polarity\n",
    "  \n",
    " #Create two new columns ‘Subjectivity’ & ‘Polarity’\n",
    "    df['TextBlob_Subjectivity'] = df['Feedback'].apply(getSubjectivity)\n",
    "    df['TextBlob_Polarity'] = df['Feedback'].apply(getPolarity)\n",
    "    def getAnalysis(score):\n",
    "        if score >-1 and score <-0.5:\n",
    "            return 'Negative'\n",
    "        elif score >= -0.5 and score <= 0.5:\n",
    "            return 'Neutral'\n",
    "        else:\n",
    "            return 'Positive'\n",
    "    df['TextBlob_Analysis'] = df['TextBlob_Polarity'].apply(getAnalysis )\n",
    "    return df"
   ]
  },
  {
   "cell_type": "code",
   "execution_count": 14,
   "id": "f8f855e7",
   "metadata": {},
   "outputs": [
    {
     "data": {
      "text/html": [
       "<div>\n",
       "<style scoped>\n",
       "    .dataframe tbody tr th:only-of-type {\n",
       "        vertical-align: middle;\n",
       "    }\n",
       "\n",
       "    .dataframe tbody tr th {\n",
       "        vertical-align: top;\n",
       "    }\n",
       "\n",
       "    .dataframe thead th {\n",
       "        text-align: right;\n",
       "    }\n",
       "</style>\n",
       "<table border=\"1\" class=\"dataframe\">\n",
       "  <thead>\n",
       "    <tr style=\"text-align: right;\">\n",
       "      <th></th>\n",
       "      <th>Feedback</th>\n",
       "      <th>TextBlob_Subjectivity</th>\n",
       "      <th>TextBlob_Polarity</th>\n",
       "      <th>TextBlob_Analysis</th>\n",
       "    </tr>\n",
       "  </thead>\n",
       "  <tbody>\n",
       "    <tr>\n",
       "      <th>0</th>\n",
       "      <td>yes good</td>\n",
       "      <td>0.600000</td>\n",
       "      <td>0.7</td>\n",
       "      <td>Positive</td>\n",
       "    </tr>\n",
       "    <tr>\n",
       "      <th>1</th>\n",
       "      <td>excellent</td>\n",
       "      <td>1.000000</td>\n",
       "      <td>1.0</td>\n",
       "      <td>Positive</td>\n",
       "    </tr>\n",
       "    <tr>\n",
       "      <th>2</th>\n",
       "      <td>bad</td>\n",
       "      <td>0.666667</td>\n",
       "      <td>-0.7</td>\n",
       "      <td>Negative</td>\n",
       "    </tr>\n",
       "    <tr>\n",
       "      <th>3</th>\n",
       "      <td>okay</td>\n",
       "      <td>0.500000</td>\n",
       "      <td>0.5</td>\n",
       "      <td>Neutral</td>\n",
       "    </tr>\n",
       "    <tr>\n",
       "      <th>4</th>\n",
       "      <td>bad</td>\n",
       "      <td>0.666667</td>\n",
       "      <td>-0.7</td>\n",
       "      <td>Negative</td>\n",
       "    </tr>\n",
       "  </tbody>\n",
       "</table>\n",
       "</div>"
      ],
      "text/plain": [
       "    Feedback  TextBlob_Subjectivity  TextBlob_Polarity TextBlob_Analysis\n",
       "0   yes good               0.600000                0.7          Positive\n",
       "1  excellent               1.000000                1.0          Positive\n",
       "2        bad               0.666667               -0.7          Negative\n",
       "3       okay               0.500000                0.5           Neutral\n",
       "4        bad               0.666667               -0.7          Negative"
      ]
     },
     "execution_count": 14,
     "metadata": {},
     "output_type": "execute_result"
    }
   ],
   "source": [
    "sentiment_analysis(df1)"
   ]
  }
 ],
 "metadata": {
  "kernelspec": {
   "display_name": "Python 3 (ipykernel)",
   "language": "python",
   "name": "python3"
  },
  "language_info": {
   "codemirror_mode": {
    "name": "ipython",
    "version": 3
   },
   "file_extension": ".py",
   "mimetype": "text/x-python",
   "name": "python",
   "nbconvert_exporter": "python",
   "pygments_lexer": "ipython3",
   "version": "3.10.9"
  }
 },
 "nbformat": 4,
 "nbformat_minor": 5
}
